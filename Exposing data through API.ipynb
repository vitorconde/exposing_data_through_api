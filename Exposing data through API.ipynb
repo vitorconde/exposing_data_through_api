{
 "cells": [
  {
   "cell_type": "markdown",
   "id": "ca3f2ac6",
   "metadata": {},
   "source": [
    "# How to expose data through API"
   ]
  },
  {
   "cell_type": "markdown",
   "id": "a07b557f",
   "metadata": {},
   "source": [
    "## Install Flask API and Sklearn API"
   ]
  },
  {
   "cell_type": "code",
   "execution_count": 5,
   "id": "76d428bc",
   "metadata": {},
   "outputs": [
    {
     "name": "stdout",
     "output_type": "stream",
     "text": [
      "Requirement already satisfied: flask in c:\\users\\sbrvcs\\anaconda3\\lib\\site-packages (1.1.2)\n",
      "Requirement already satisfied: itsdangerous>=0.24 in c:\\users\\sbrvcs\\anaconda3\\lib\\site-packages (from flask) (2.0.1)\n",
      "Requirement already satisfied: Jinja2>=2.10.1 in c:\\users\\sbrvcs\\anaconda3\\lib\\site-packages (from flask) (2.11.3)\n",
      "Requirement already satisfied: Werkzeug>=0.15 in c:\\users\\sbrvcs\\anaconda3\\lib\\site-packages (from flask) (2.0.3)\n",
      "Requirement already satisfied: click>=5.1 in c:\\users\\sbrvcs\\anaconda3\\lib\\site-packages (from flask) (8.0.4)\n",
      "Requirement already satisfied: colorama in c:\\users\\sbrvcs\\anaconda3\\lib\\site-packages (from click>=5.1->flask) (0.4.4)\n",
      "Requirement already satisfied: MarkupSafe>=0.23 in c:\\users\\sbrvcs\\anaconda3\\lib\\site-packages (from Jinja2>=2.10.1->flask) (2.0.1)\n",
      "Note: you may need to restart the kernel to use updated packages.\n"
     ]
    }
   ],
   "source": [
    "pip install flask"
   ]
  },
  {
   "cell_type": "code",
   "execution_count": 6,
   "id": "3eda15a6",
   "metadata": {},
   "outputs": [
    {
     "name": "stdout",
     "output_type": "stream",
     "text": [
      "Collecting sklearn\n",
      "  Downloading sklearn-0.0.post1.tar.gz (3.6 kB)\n",
      "Building wheels for collected packages: sklearn\n",
      "  Building wheel for sklearn (setup.py): started\n",
      "  Building wheel for sklearn (setup.py): finished with status 'done'\n",
      "  Created wheel for sklearn: filename=sklearn-0.0.post1-py3-none-any.whl size=2959 sha256=d7f92123238320e126697bdfa4e4b3f5a76892d2a989f49b6eaf429c70f2c8e9\n",
      "  Stored in directory: c:\\users\\sbrvcs\\appdata\\local\\pip\\cache\\wheels\\f8\\e0\\3d\\9d0c2020c44a519b9f02ab4fa6d2a4a996c98d79ab2f569fa1\n",
      "Successfully built sklearn\n",
      "Installing collected packages: sklearn\n",
      "Successfully installed sklearn-0.0.post1\n",
      "Note: you may need to restart the kernel to use updated packages.\n"
     ]
    }
   ],
   "source": [
    "pip install sklearn"
   ]
  },
  {
   "cell_type": "markdown",
   "id": "0b5bc23d",
   "metadata": {},
   "source": [
    "## Import flask, sklearn and pandas"
   ]
  },
  {
   "cell_type": "code",
   "execution_count": 16,
   "id": "8eb62c49",
   "metadata": {},
   "outputs": [],
   "source": [
    "from flask import Flask, jsonify\n",
    "from sklearn import datasets\n",
    "import pandas as pd"
   ]
  },
  {
   "cell_type": "markdown",
   "id": "bf44a7cf",
   "metadata": {},
   "source": [
    "## Creating the flask app"
   ]
  },
  {
   "cell_type": "code",
   "execution_count": 17,
   "id": "37ca1986",
   "metadata": {},
   "outputs": [],
   "source": [
    "app = Flask(__name__)"
   ]
  },
  {
   "cell_type": "markdown",
   "id": "04fadc28",
   "metadata": {},
   "source": [
    "## Creating the dataset"
   ]
  },
  {
   "cell_type": "code",
   "execution_count": 18,
   "id": "df7194c7",
   "metadata": {},
   "outputs": [],
   "source": [
    "# create dataset (json format)\n",
    "# data = [{'name': 'John', 'age': 30}, {'name': 'Alice', 'age': 25}]\n",
    "iris_data = datasets.load_iris()\n",
    "data_iris = pd.DataFrame(data=iris_data.data, \n",
    "                  columns=iris_data.feature_names)"
   ]
  },
  {
   "cell_type": "markdown",
   "id": "7dfac431",
   "metadata": {},
   "source": [
    "## Checking the dataset data_iris"
   ]
  },
  {
   "cell_type": "code",
   "execution_count": 19,
   "id": "062ca1c4",
   "metadata": {},
   "outputs": [
    {
     "data": {
      "text/html": [
       "<div>\n",
       "<style scoped>\n",
       "    .dataframe tbody tr th:only-of-type {\n",
       "        vertical-align: middle;\n",
       "    }\n",
       "\n",
       "    .dataframe tbody tr th {\n",
       "        vertical-align: top;\n",
       "    }\n",
       "\n",
       "    .dataframe thead th {\n",
       "        text-align: right;\n",
       "    }\n",
       "</style>\n",
       "<table border=\"1\" class=\"dataframe\">\n",
       "  <thead>\n",
       "    <tr style=\"text-align: right;\">\n",
       "      <th></th>\n",
       "      <th>sepal length (cm)</th>\n",
       "      <th>sepal width (cm)</th>\n",
       "      <th>petal length (cm)</th>\n",
       "      <th>petal width (cm)</th>\n",
       "    </tr>\n",
       "  </thead>\n",
       "  <tbody>\n",
       "    <tr>\n",
       "      <th>0</th>\n",
       "      <td>5.1</td>\n",
       "      <td>3.5</td>\n",
       "      <td>1.4</td>\n",
       "      <td>0.2</td>\n",
       "    </tr>\n",
       "    <tr>\n",
       "      <th>1</th>\n",
       "      <td>4.9</td>\n",
       "      <td>3.0</td>\n",
       "      <td>1.4</td>\n",
       "      <td>0.2</td>\n",
       "    </tr>\n",
       "    <tr>\n",
       "      <th>2</th>\n",
       "      <td>4.7</td>\n",
       "      <td>3.2</td>\n",
       "      <td>1.3</td>\n",
       "      <td>0.2</td>\n",
       "    </tr>\n",
       "    <tr>\n",
       "      <th>3</th>\n",
       "      <td>4.6</td>\n",
       "      <td>3.1</td>\n",
       "      <td>1.5</td>\n",
       "      <td>0.2</td>\n",
       "    </tr>\n",
       "    <tr>\n",
       "      <th>4</th>\n",
       "      <td>5.0</td>\n",
       "      <td>3.6</td>\n",
       "      <td>1.4</td>\n",
       "      <td>0.2</td>\n",
       "    </tr>\n",
       "  </tbody>\n",
       "</table>\n",
       "</div>"
      ],
      "text/plain": [
       "   sepal length (cm)  sepal width (cm)  petal length (cm)  petal width (cm)\n",
       "0                5.1               3.5                1.4               0.2\n",
       "1                4.9               3.0                1.4               0.2\n",
       "2                4.7               3.2                1.3               0.2\n",
       "3                4.6               3.1                1.5               0.2\n",
       "4                5.0               3.6                1.4               0.2"
      ]
     },
     "execution_count": 19,
     "metadata": {},
     "output_type": "execute_result"
    }
   ],
   "source": [
    "data_iris.head()"
   ]
  },
  {
   "cell_type": "markdown",
   "id": "8bf9c8b0",
   "metadata": {},
   "source": [
    "## Converting Pandas dataset to Json"
   ]
  },
  {
   "cell_type": "code",
   "execution_count": 20,
   "id": "347ae393",
   "metadata": {},
   "outputs": [],
   "source": [
    "data = data_iris.to_json()"
   ]
  },
  {
   "cell_type": "markdown",
   "id": "dac34842",
   "metadata": {},
   "source": [
    "## Creating the route and returning json data"
   ]
  },
  {
   "cell_type": "code",
   "execution_count": 21,
   "id": "15fc5d1c",
   "metadata": {},
   "outputs": [
    {
     "name": "stdout",
     "output_type": "stream",
     "text": [
      " * Serving Flask app \"__main__\" (lazy loading)\n",
      " * Environment: production\n",
      "\u001b[31m   WARNING: This is a development server. Do not use it in a production deployment.\u001b[0m\n",
      "\u001b[2m   Use a production WSGI server instead.\u001b[0m\n",
      " * Debug mode: off\n"
     ]
    },
    {
     "name": "stderr",
     "output_type": "stream",
     "text": [
      " * Running on http://127.0.0.1:5000/ (Press CTRL+C to quit)\n"
     ]
    }
   ],
   "source": [
    "# create a route that returns the data as a JSON object\n",
    "@app.route('/api/data')\n",
    "def get_data():\n",
    "    return jsonify(data)\n",
    "\n",
    "if __name__ == '__main__':\n",
    "    app.run()"
   ]
  }
 ],
 "metadata": {
  "kernelspec": {
   "display_name": "Python 3 (ipykernel)",
   "language": "python",
   "name": "python3"
  },
  "language_info": {
   "codemirror_mode": {
    "name": "ipython",
    "version": 3
   },
   "file_extension": ".py",
   "mimetype": "text/x-python",
   "name": "python",
   "nbconvert_exporter": "python",
   "pygments_lexer": "ipython3",
   "version": "3.9.12"
  }
 },
 "nbformat": 4,
 "nbformat_minor": 5
}
